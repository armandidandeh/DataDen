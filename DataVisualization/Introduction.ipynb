{
  "nbformat": 4,
  "nbformat_minor": 0,
  "metadata": {
    "colab": {
      "name": "Introduction.ipynb",
      "version": "0.3.2",
      "provenance": []
    },
    "kernelspec": {
      "name": "python36",
      "display_name": "Python 3.6",
      "language": "python"
    }
  },
  "cells": [
    {
      "metadata": {
        "id": "zluRNc8YHhHA",
        "colab_type": "text"
      },
      "cell_type": "markdown",
      "source": [
        "#Introduction to Data Visualization using Python and Seaborn"
      ]
    },
    {
      "metadata": {
        "id": "C5n9WAucHnWn",
        "colab_type": "text"
      },
      "cell_type": "markdown",
      "source": [
        "Welcome to the DataDen meetup event where we talk about data visualization using Python and [Seaborn](http://seaborn.pydata.org/). We'll go through a few demos using [Google Colab](https://colab.research.google.com).\n"
      ]
    },
    {
      "metadata": {
        "id": "pmb83j8XIUqC",
        "colab_type": "text"
      },
      "cell_type": "markdown",
      "source": [
        "Seaborn comes with a number of in-build datasets; details of which can be found at https://github.com/mwaskom/seaborn-data."
      ]
    },
    {
      "metadata": {
        "id": "TgsWKZeAHoXn",
        "colab_type": "text"
      },
      "cell_type": "markdown",
      "source": [
        "We first need to ensure that the latest version of seaborn is being used."
      ]
    },
    {
      "metadata": {
        "trusted": true,
        "id": "q7tMouHPHf1Z",
        "colab_type": "code",
        "colab": {
          "base_uri": "https://localhost:8080/",
          "height": 34
        },
        "outputId": "abc86454-547a-43ed-a51b-1f5225dd1659"
      },
      "cell_type": "code",
      "source": [
        "import seaborn as sns\n",
        "sns.__version__\n"
      ],
      "execution_count": 1,
      "outputs": [
        {
          "output_type": "execute_result",
          "data": {
            "text/plain": [
              "'0.9.0'"
            ]
          },
          "metadata": {
            "tags": []
          },
          "execution_count": 1
        }
      ]
    },
    {
      "metadata": {
        "id": "rq5ESh-YHxaf",
        "colab_type": "text"
      },
      "cell_type": "markdown",
      "source": [
        "If the version number is less than 0.9.0, then we need to update Google Colab with the latest version."
      ]
    },
    {
      "metadata": {
        "trusted": true,
        "id": "YvQXESFSHf1d",
        "colab_type": "code",
        "colab": {
          "base_uri": "https://localhost:8080/",
          "height": 459
        },
        "outputId": "2a22cace-238c-4b67-8bfc-f4fc59aae2c3"
      },
      "cell_type": "code",
      "source": [
        "!pip install seaborn==\"0.9.0\""
      ],
      "execution_count": 2,
      "outputs": [
        {
          "output_type": "stream",
          "text": [
            "Collecting seaborn==0.9.0\n",
            "\u001b[?25l  Downloading https://files.pythonhosted.org/packages/7a/bf/04cfcfc9616cedd4b5dd24dfc40395965ea9f50c1db0d3f3e52b050f74a5/seaborn-0.9.0.tar.gz (198kB)\n",
            "\u001b[K    100% |████████████████████████████████| 204kB 4.2MB/s \n",
            "\u001b[?25hRequirement already satisfied: numpy>=1.9.3 in /usr/local/lib/python2.7/dist-packages (from seaborn==0.9.0) (1.14.6)\n",
            "Requirement already satisfied: scipy>=0.14.0 in /usr/local/lib/python2.7/dist-packages (from seaborn==0.9.0) (1.1.0)\n",
            "Requirement already satisfied: pandas>=0.15.2 in /usr/local/lib/python2.7/dist-packages (from seaborn==0.9.0) (0.22.0)\n",
            "Requirement already satisfied: matplotlib>=1.4.3 in /usr/local/lib/python2.7/dist-packages (from seaborn==0.9.0) (2.1.2)\n",
            "Requirement already satisfied: pytz>=2011k in /usr/local/lib/python2.7/dist-packages (from pandas>=0.15.2->seaborn==0.9.0) (2018.9)\n",
            "Requirement already satisfied: python-dateutil in /usr/local/lib/python2.7/dist-packages (from pandas>=0.15.2->seaborn==0.9.0) (2.5.3)\n",
            "Requirement already satisfied: cycler>=0.10 in /usr/local/lib/python2.7/dist-packages (from matplotlib>=1.4.3->seaborn==0.9.0) (0.10.0)\n",
            "Requirement already satisfied: backports.functools-lru-cache in /usr/local/lib/python2.7/dist-packages (from matplotlib>=1.4.3->seaborn==0.9.0) (1.5)\n",
            "Requirement already satisfied: subprocess32 in /usr/local/lib/python2.7/dist-packages (from matplotlib>=1.4.3->seaborn==0.9.0) (3.5.3)\n",
            "Requirement already satisfied: six>=1.10 in /usr/local/lib/python2.7/dist-packages (from matplotlib>=1.4.3->seaborn==0.9.0) (1.11.0)\n",
            "Requirement already satisfied: pyparsing!=2.0.4,!=2.1.2,!=2.1.6,>=2.0.1 in /usr/local/lib/python2.7/dist-packages (from matplotlib>=1.4.3->seaborn==0.9.0) (2.3.0)\n",
            "Building wheels for collected packages: seaborn\n",
            "  Running setup.py bdist_wheel for seaborn ... \u001b[?25l-\b \bdone\n",
            "\u001b[?25h  Stored in directory: /root/.cache/pip/wheels/fc/1c/74/c8f80a532c06a789599b8659b117ec7d7574cac4a06f7dabfe\n",
            "Successfully built seaborn\n",
            "Installing collected packages: seaborn\n",
            "  Found existing installation: seaborn 0.7.1\n",
            "    Uninstalling seaborn-0.7.1:\n",
            "      Successfully uninstalled seaborn-0.7.1\n",
            "Successfully installed seaborn-0.9.0\n",
            "\u001b[0;31;1mWARNING: The following packages were previously imported in this runtime:\n",
            "  [seaborn]\n",
            "You must restart the runtime in order to use newly installed versions.\u001b[0m\n"
          ],
          "name": "stdout"
        }
      ]
    },
    {
      "metadata": {
        "id": "uiNpZwhmH5uv",
        "colab_type": "text"
      },
      "cell_type": "markdown",
      "source": [
        "Restart the runtime in order to pick the latest version, then check the seaborn version again."
      ]
    },
    {
      "metadata": {
        "trusted": true,
        "id": "ZwQnkeenHf1o",
        "colab_type": "code",
        "colab": {}
      },
      "cell_type": "code",
      "source": [
        ""
      ],
      "execution_count": 0,
      "outputs": []
    }
  ]
}