{
  "nbformat": 4,
  "nbformat_minor": 0,
  "metadata": {
    "colab": {
      "name": "Example3.ipynb",
      "version": "0.3.2",
      "provenance": [],
      "include_colab_link": true
    },
    "kernelspec": {
      "name": "python36",
      "display_name": "Python 3.6",
      "language": "python"
    }
  },
  "cells": [
    {
      "cell_type": "markdown",
      "metadata": {
        "id": "view-in-github",
        "colab_type": "text"
      },
      "source": [
        "<a href=\"https://colab.research.google.com/github/ziababar/DataDen/blob/master/DataVisualization/Example3.ipynb\" target=\"_parent\"><img src=\"https://colab.research.google.com/assets/colab-badge.svg\" alt=\"Open In Colab\"/></a>"
      ]
    },
    {
      "metadata": {
        "collapsed": true,
        "id": "dOPVzPdwZ8LY",
        "colab_type": "text"
      },
      "cell_type": "markdown",
      "source": [
        "# Visualizing datset distribution"
      ]
    },
    {
      "metadata": {
        "id": "_a0mmy6taUKx",
        "colab_type": "text"
      },
      "cell_type": "markdown",
      "source": [
        ""
      ]
    },
    {
      "metadata": {
        "id": "Io1KG4E_Z8Lc",
        "colab_type": "text"
      },
      "cell_type": "markdown",
      "source": [
        "Several approaches exist for studying the distribution of data, including both univariate and bivariate distributions."
      ]
    },
    {
      "metadata": {
        "id": "u5ZjC5IYavJF",
        "colab_type": "text"
      },
      "cell_type": "markdown",
      "source": [
        "## Setting things up"
      ]
    },
    {
      "metadata": {
        "trusted": true,
        "id": "WfOINFlXZ8MA",
        "colab_type": "code",
        "colab": {}
      },
      "cell_type": "code",
      "source": [
        "import numpy as np\n",
        "import pandas as pd\n",
        "import seaborn as sns\n",
        "import matplotlib.pyplot as plt\n",
        "from scipy import stats"
      ],
      "execution_count": 0,
      "outputs": []
    },
    {
      "metadata": {
        "trusted": true,
        "id": "yjjwMF3UZ8MJ",
        "colab_type": "code",
        "colab": {},
        "outputId": "48ec27e5-cbd0-40f9-ec83-8c48f906fc8a"
      },
      "cell_type": "code",
      "source": [
        "sns.set(color_codes=True)\n",
        "sns.__version__"
      ],
      "execution_count": 0,
      "outputs": [
        {
          "output_type": "execute_result",
          "data": {
            "text/plain": [
              "'0.9.0'"
            ]
          },
          "metadata": {
            "tags": []
          },
          "execution_count": 12
        }
      ]
    },
    {
      "metadata": {
        "id": "NSKCpVk1cG92",
        "colab_type": "text"
      },
      "cell_type": "markdown",
      "source": [
        "## Load the Data"
      ]
    },
    {
      "metadata": {
        "id": "37ph70kJcJJU",
        "colab_type": "code",
        "colab": {}
      },
      "cell_type": "code",
      "source": [
        "x = np.random.normal(size=100)"
      ],
      "execution_count": 0,
      "outputs": []
    },
    {
      "metadata": {
        "id": "l08oN1zxZ8MQ",
        "colab_type": "text"
      },
      "cell_type": "markdown",
      "source": [
        "## Plotting univariate distributions\n"
      ]
    },
    {
      "metadata": {
        "id": "sges5HPFZ8Mq",
        "colab_type": "text"
      },
      "cell_type": "markdown",
      "source": [
        "### Histograms"
      ]
    },
    {
      "metadata": {
        "id": "j8W622dfZ8Mt",
        "colab_type": "text"
      },
      "cell_type": "markdown",
      "source": [
        "Histograms represents data distribution across multiple \"bins\" along the range of the data. The height of the bars shows the number of datapoints that fall in each bin."
      ]
    },
    {
      "metadata": {
        "trusted": true,
        "id": "UmalfVJjZ8Mv",
        "colab_type": "code",
        "colab": {},
        "outputId": "b197a56c-63a1-4d6d-921f-a5b1abdb444a"
      },
      "cell_type": "code",
      "source": [
        "#sns.distplot(x);\n",
        "sns.distplot(x, kde=False, rug=True);"
      ],
      "execution_count": 0,
      "outputs": [
        {
          "output_type": "display_data",
          "data": {
            "image/png": "[encoded data removed]",
            "text/plain": [
              "<Figure size 432x288 with 1 Axes>"
            ]
          },
          "metadata": {
            "tags": []
          }
        }
      ]
    },
    {
      "metadata": {
        "id": "2cL-yuGJZ8M4",
        "colab_type": "text"
      },
      "cell_type": "markdown",
      "source": [
        "The number of bins can also be changed from the default that is automatically calculated/estimated by the distplot() function."
      ]
    },
    {
      "metadata": {
        "trusted": true,
        "id": "0X-QVEpTZ8M5",
        "colab_type": "code",
        "colab": {},
        "outputId": "8ca74808-0977-43ef-d5eb-2c919ea14c5e"
      },
      "cell_type": "code",
      "source": [
        "sns.distplot(x, bins=20, kde=False, rug=True);"
      ],
      "execution_count": 0,
      "outputs": [
        {
          "output_type": "display_data",
          "data": {
            "image/png": "[encoded data removed]",
            "text/plain": [
              "<Figure size 432x288 with 1 Axes>"
            ]
          },
          "metadata": {
            "tags": []
          }
        }
      ]
    },
    {
      "metadata": {
        "id": "60IPaI6lZ8M_",
        "colab_type": "text"
      },
      "cell_type": "markdown",
      "source": [
        "### Kernel density estimation"
      ]
    },
    {
      "metadata": {
        "id": "qFrDovfPZ8NC",
        "colab_type": "text"
      },
      "cell_type": "markdown",
      "source": [
        "The kernel density estimate may be less familiar, but it can be a useful tool for plotting the shape of a distribution. Like the histogram, the KDE plots encode the density of observations on one axis with height along the other axis:"
      ]
    },
    {
      "metadata": {
        "trusted": true,
        "id": "7IyGSizgZ8ND",
        "colab_type": "code",
        "colab": {},
        "outputId": "f9d07097-40fd-42b6-873d-e5ea65c296d4"
      },
      "cell_type": "code",
      "source": [
        "sns.distplot(x, hist=False, rug=True);"
      ],
      "execution_count": 0,
      "outputs": [
        {
          "output_type": "display_data",
          "data": {
            "image/png": "[encoded data removed]",
            "text/plain": [
              "<Figure size 432x288 with 1 Axes>"
            ]
          },
          "metadata": {
            "tags": []
          }
        }
      ]
    },
    {
      "metadata": {
        "id": "JJKkc379Z8NN",
        "colab_type": "text"
      },
      "cell_type": "markdown",
      "source": [
        "## Plotting bivariate distributions"
      ]
    },
    {
      "metadata": {
        "id": "v7dttS1_Z8NO",
        "colab_type": "text"
      },
      "cell_type": "markdown",
      "source": [
        "### Scatterplots"
      ]
    },
    {
      "metadata": {
        "id": "lub4qmTxZ8NQ",
        "colab_type": "text"
      },
      "cell_type": "markdown",
      "source": [
        "The most familiar way to visualize a bivariate distribution is a scatterplot, where each observation is shown with point at the x and y values. This is analgous to a rug plot on two dimensions. You can draw a scatterplot with the matplotlib plt.scatter function, and it is also the default kind of plot shown by the jointplot() function"
      ]
    },
    {
      "metadata": {
        "trusted": true,
        "id": "XGBesQoiZ8NR",
        "colab_type": "code",
        "colab": {}
      },
      "cell_type": "code",
      "source": [
        "mean, cov = [0, 1], [(1, .5), (.5, 1)]\n",
        "data = np.random.multivariate_normal(mean, cov, 200)\n",
        "df = pd.DataFrame(data, columns=[\"x\", \"y\"])"
      ],
      "execution_count": 0,
      "outputs": []
    },
    {
      "metadata": {
        "trusted": true,
        "id": "2JySTIabZ8NU",
        "colab_type": "code",
        "colab": {},
        "outputId": "bda65278-8b58-4750-ef9d-a77e4acb7543"
      },
      "cell_type": "code",
      "source": [
        "sns.jointplot(x=\"x\", y=\"y\", data=df);"
      ],
      "execution_count": 0,
      "outputs": [
        {
          "output_type": "display_data",
          "data": {
            "image/png": "[encoded data removed]",
            "text/plain": [
              "<Figure size 432x432 with 3 Axes>"
            ]
          },
          "metadata": {
            "tags": []
          }
        }
      ]
    },
    {
      "metadata": {
        "id": "7xu-i1aSZ8Nb",
        "colab_type": "text"
      },
      "cell_type": "markdown",
      "source": [
        "### Kernel density estimation"
      ]
    },
    {
      "metadata": {
        "id": "KEfpVpbTZ8Ne",
        "colab_type": "text"
      },
      "cell_type": "markdown",
      "source": [
        "It is also possible to use the kernel density estimation procedure described above to visualize a bivariate distribution. In seaborn, this kind of plot is shown with a contour plot and is available as a style in jointplot():"
      ]
    },
    {
      "metadata": {
        "trusted": true,
        "id": "_v0ca1cpZ8Nh",
        "colab_type": "code",
        "colab": {},
        "outputId": "7886934d-596d-4642-f7ad-06adcfefbfb4"
      },
      "cell_type": "code",
      "source": [
        "sns.jointplot(x=\"x\", y=\"y\", data=df, kind=\"kde\")"
      ],
      "execution_count": 0,
      "outputs": [
        {
          "output_type": "execute_result",
          "data": {
            "text/plain": [
              "<seaborn.axisgrid.JointGrid at 0x7ff39afd2710>"
            ]
          },
          "metadata": {
            "tags": []
          },
          "execution_count": 10
        },
        {
          "output_type": "display_data",
          "data": {
            "image/png": "[encoded data removed]",
            "text/plain": [
              "<Figure size 432x432 with 3 Axes>"
            ]
          },
          "metadata": {
            "tags": []
          }
        }
      ]
    }
  ]
}