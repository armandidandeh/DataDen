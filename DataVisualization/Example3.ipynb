{
  "nbformat": 4,
  "nbformat_minor": 0,
  "metadata": {
    "colab": {
      "name": "Example3.ipynb",
      "version": "0.3.2",
      "provenance": [],
      "include_colab_link": true
    },
    "kernelspec": {
      "name": "python36",
      "display_name": "Python 3.6",
      "language": "python"
    }
  },
  "cells": [
    {
      "cell_type": "markdown",
      "metadata": {
        "id": "view-in-github",
        "colab_type": "text"
      },
      "source": [
        "<a href=\"https://colab.research.google.com/github/ziababar/DataDen/blob/master/DataVisualization/Example3.ipynb\" target=\"_parent\"><img src=\"https://colab.research.google.com/assets/colab-badge.svg\" alt=\"Open In Colab\"/></a>"
      ]
    },
    {
      "metadata": {
        "collapsed": true,
        "id": "dOPVzPdwZ8LY",
        "colab_type": "text"
      },
      "cell_type": "markdown",
      "source": [
        "# Visualizing datset distribution"
      ]
    },
    {
      "metadata": {
        "id": "_a0mmy6taUKx",
        "colab_type": "text"
      },
      "cell_type": "markdown",
      "source": [
        "*Credit: These examples were originally source from the Seaborn [tutorials](https://seaborn.pydata.org/tutorial.html)*\n"
      ]
    },
    {
      "metadata": {
        "id": "Io1KG4E_Z8Lc",
        "colab_type": "text"
      },
      "cell_type": "markdown",
      "source": [
        "Several approaches exist for studying the distribution of data, including both univariate and bivariate distributions."
      ]
    },
    {
      "metadata": {
        "id": "u5ZjC5IYavJF",
        "colab_type": "text"
      },
      "cell_type": "markdown",
      "source": [
        "## Setting things up"
      ]
    },
    {
      "metadata": {
        "id": "1XkzZ_C9Ub98",
        "colab_type": "text"
      },
      "cell_type": "markdown",
      "source": [
        "Perform initial setup of the environment and import necessary libraries"
      ]
    },
    {
      "metadata": {
        "id": "fY6i3CCfUdEA",
        "colab_type": "code",
        "colab": {
          "base_uri": "https://localhost:8080/",
          "height": 34
        },
        "outputId": "b5317539-e682-43e1-c4b1-bb6ca9c70a04"
      },
      "cell_type": "code",
      "source": [
        "import seaborn as sns\n",
        "sns.__version__"
      ],
      "execution_count": 1,
      "outputs": [
        {
          "output_type": "execute_result",
          "data": {
            "text/plain": [
              "'0.9.0'"
            ]
          },
          "metadata": {
            "tags": []
          },
          "execution_count": 1
        }
      ]
    },
    {
      "metadata": {
        "id": "Kfkcuch-UhGx",
        "colab_type": "code",
        "colab": {
          "base_uri": "https://localhost:8080/",
          "height": 493
        },
        "outputId": "46f8ad36-8d8d-4095-9e0d-fdc2bd3fdcec"
      },
      "cell_type": "code",
      "source": [
        "!pip install seaborn==\"0.9.0\""
      ],
      "execution_count": 2,
      "outputs": [
        {
          "output_type": "stream",
          "text": [
            "Collecting seaborn==0.9.0\n",
            "\u001b[?25l  Downloading https://files.pythonhosted.org/packages/7a/bf/04cfcfc9616cedd4b5dd24dfc40395965ea9f50c1db0d3f3e52b050f74a5/seaborn-0.9.0.tar.gz (198kB)\n",
            "\u001b[K    100% |████████████████████████████████| 204kB 26.4MB/s \n",
            "\u001b[?25hRequirement already satisfied: numpy>=1.9.3 in /usr/local/lib/python2.7/dist-packages (from seaborn==0.9.0) (1.14.6)\n",
            "Requirement already satisfied: scipy>=0.14.0 in /usr/local/lib/python2.7/dist-packages (from seaborn==0.9.0) (1.1.0)\n",
            "Requirement already satisfied: pandas>=0.15.2 in /usr/local/lib/python2.7/dist-packages (from seaborn==0.9.0) (0.22.0)\n",
            "Requirement already satisfied: matplotlib>=1.4.3 in /usr/local/lib/python2.7/dist-packages (from seaborn==0.9.0) (2.2.3)\n",
            "Requirement already satisfied: pytz>=2011k in /usr/local/lib/python2.7/dist-packages (from pandas>=0.15.2->seaborn==0.9.0) (2018.9)\n",
            "Requirement already satisfied: python-dateutil in /usr/local/lib/python2.7/dist-packages (from pandas>=0.15.2->seaborn==0.9.0) (2.5.3)\n",
            "Requirement already satisfied: cycler>=0.10 in /usr/local/lib/python2.7/dist-packages (from matplotlib>=1.4.3->seaborn==0.9.0) (0.10.0)\n",
            "Requirement already satisfied: backports.functools-lru-cache in /usr/local/lib/python2.7/dist-packages (from matplotlib>=1.4.3->seaborn==0.9.0) (1.5)\n",
            "Requirement already satisfied: subprocess32 in /usr/local/lib/python2.7/dist-packages (from matplotlib>=1.4.3->seaborn==0.9.0) (3.5.3)\n",
            "Requirement already satisfied: kiwisolver>=1.0.1 in /usr/local/lib/python2.7/dist-packages (from matplotlib>=1.4.3->seaborn==0.9.0) (1.0.1)\n",
            "Requirement already satisfied: six>=1.10 in /usr/local/lib/python2.7/dist-packages (from matplotlib>=1.4.3->seaborn==0.9.0) (1.11.0)\n",
            "Requirement already satisfied: pyparsing!=2.0.4,!=2.1.2,!=2.1.6,>=2.0.1 in /usr/local/lib/python2.7/dist-packages (from matplotlib>=1.4.3->seaborn==0.9.0) (2.3.1)\n",
            "Requirement already satisfied: setuptools in /usr/local/lib/python2.7/dist-packages (from kiwisolver>=1.0.1->matplotlib>=1.4.3->seaborn==0.9.0) (40.6.3)\n",
            "Building wheels for collected packages: seaborn\n",
            "  Running setup.py bdist_wheel for seaborn ... \u001b[?25l-\b \bdone\n",
            "\u001b[?25h  Stored in directory: /root/.cache/pip/wheels/fc/1c/74/c8f80a532c06a789599b8659b117ec7d7574cac4a06f7dabfe\n",
            "Successfully built seaborn\n",
            "Installing collected packages: seaborn\n",
            "  Found existing installation: seaborn 0.7.1\n",
            "    Uninstalling seaborn-0.7.1:\n",
            "      Successfully uninstalled seaborn-0.7.1\n",
            "Successfully installed seaborn-0.9.0\n",
            "\u001b[0;31;1mWARNING: The following packages were previously imported in this runtime:\n",
            "  [seaborn]\n",
            "You must restart the runtime in order to use newly installed versions.\u001b[0m\n"
          ],
          "name": "stdout"
        }
      ]
    },
    {
      "metadata": {
        "trusted": true,
        "id": "WfOINFlXZ8MA",
        "colab_type": "code",
        "colab": {}
      },
      "cell_type": "code",
      "source": [
        "import numpy as np\n",
        "import pandas as pd\n",
        "import matplotlib.pyplot as plt\n",
        "from scipy import stats"
      ],
      "execution_count": 0,
      "outputs": []
    },
    {
      "metadata": {
        "id": "yBho-4reUoz5",
        "colab_type": "text"
      },
      "cell_type": "markdown",
      "source": [
        "Set various aesthetic parameters in one step. Details of possible parameters can be found at https://seaborn.pydata.org/generated/seaborn.set.html"
      ]
    },
    {
      "metadata": {
        "trusted": true,
        "id": "yjjwMF3UZ8MJ",
        "colab_type": "code",
        "colab": {}
      },
      "cell_type": "code",
      "source": [
        "sns.set(color_codes=True)"
      ],
      "execution_count": 0,
      "outputs": []
    },
    {
      "metadata": {
        "id": "NSKCpVk1cG92",
        "colab_type": "text"
      },
      "cell_type": "markdown",
      "source": [
        "## Loading and Creating the Datasets"
      ]
    },
    {
      "metadata": {
        "id": "37ph70kJcJJU",
        "colab_type": "code",
        "colab": {}
      },
      "cell_type": "code",
      "source": [
        "x = np.random.normal(size=100)"
      ],
      "execution_count": 0,
      "outputs": []
    },
    {
      "metadata": {
        "id": "m3D2IK-uUywa",
        "colab_type": "code",
        "colab": {
          "base_uri": "https://localhost:8080/",
          "height": 357
        },
        "outputId": "d2b39469-3551-46a4-97b2-7e96884eece0"
      },
      "cell_type": "code",
      "source": [
        "x"
      ],
      "execution_count": 6,
      "outputs": [
        {
          "output_type": "execute_result",
          "data": {
            "text/plain": [
              "array([ 1.15354743,  0.24084582,  0.17921609,  0.05140016,  1.15016735,\n",
              "       -0.06974806,  1.30889669, -0.0346194 , -0.20420697,  0.03433656,\n",
              "        0.84258668, -1.58653462, -0.64371231, -0.67663645,  1.44712579,\n",
              "       -0.21179714, -0.49003969, -0.14576351,  0.08614215,  1.15323405,\n",
              "        0.88680111, -0.37121503,  1.38362014,  1.38848968, -0.94598009,\n",
              "        0.42599456, -0.17565517, -0.68133723, -1.23290491, -2.16728724,\n",
              "       -0.15620265,  1.26191206, -0.15351756, -0.18604527,  1.19909807,\n",
              "        0.90214847, -1.36283996,  0.80676518, -0.07200412, -0.531981  ,\n",
              "        0.11611095,  1.32601355,  0.45183532, -1.43989485, -0.14556718,\n",
              "        0.3104286 ,  1.27952002, -0.33686629,  1.06928406, -0.00422977,\n",
              "        0.31496821,  0.61380268,  0.46074876, -0.06749651, -0.97189152,\n",
              "        1.0839829 , -1.1661645 , -1.06535745,  3.8728935 ,  0.3739625 ,\n",
              "       -1.15807541, -0.49917437, -0.86015104, -0.87165236, -0.75854796,\n",
              "        0.42929402, -1.03894226,  0.86770163, -0.64766043,  0.05530301,\n",
              "       -0.47217573,  0.77730566,  0.5678195 , -0.30833313,  0.28976242,\n",
              "        0.99464726,  0.57968534,  0.54802602, -0.24487323,  0.03205114,\n",
              "       -0.62520527,  0.93757389,  0.79775133, -0.84394657, -1.16295107,\n",
              "       -1.28310173, -0.22072472, -1.26388053,  0.24849125,  0.24078249,\n",
              "       -2.36871865,  0.19376864, -0.38091965, -0.35109843, -0.48206157,\n",
              "       -1.82002806,  1.22183534,  1.03258356,  1.88962344, -0.3063181 ])"
            ]
          },
          "metadata": {
            "tags": []
          },
          "execution_count": 6
        }
      ]
    },
    {
      "metadata": {
        "id": "l08oN1zxZ8MQ",
        "colab_type": "text"
      },
      "cell_type": "markdown",
      "source": [
        "## Plotting univariate distributions\n"
      ]
    },
    {
      "metadata": {
        "id": "sges5HPFZ8Mq",
        "colab_type": "text"
      },
      "cell_type": "markdown",
      "source": [
        "### Histograms"
      ]
    },
    {
      "metadata": {
        "id": "j8W622dfZ8Mt",
        "colab_type": "text"
      },
      "cell_type": "markdown",
      "source": [
        "Histograms represents data distribution across multiple \"bins\" along the range of the data. The height of the bars shows the number of datapoints that fall in each bin."
      ]
    },
    {
      "metadata": {
        "trusted": true,
        "id": "UmalfVJjZ8Mv",
        "colab_type": "code",
        "outputId": "fd068412-710f-42df-8964-ba12bbac60e8",
        "colab": {
          "base_uri": "https://localhost:8080/",
          "height": 274
        }
      },
      "cell_type": "code",
      "source": [
        "sns.distplot(x, kde=False, rug=True);"
      ],
      "execution_count": 9,
      "outputs": [
        {
          "output_type": "display_data",
          "data": {
            "image/png": "[encoded data removed]",
            "text/plain": [
              "<Figure size 432x288 with 1 Axes>"
            ]
          },
          "metadata": {
            "tags": []
          }
        }
      ]
    },
    {
      "metadata": {
        "id": "TqbUOYJCVxGZ",
        "colab_type": "code",
        "colab": {
          "base_uri": "https://localhost:8080/",
          "height": 274
        },
        "outputId": "6099d015-b7f2-45b4-837f-46a45e52af91"
      },
      "cell_type": "code",
      "source": [
        "sns.distplot(x);"
      ],
      "execution_count": 10,
      "outputs": [
        {
          "output_type": "display_data",
          "data": {
            "image/png": "[encoded data removed]",
            "text/plain": [
              "<Figure size 432x288 with 1 Axes>"
            ]
          },
          "metadata": {
            "tags": []
          }
        }
      ]
    },
    {
      "metadata": {
        "id": "2cL-yuGJZ8M4",
        "colab_type": "text"
      },
      "cell_type": "markdown",
      "source": [
        "The number of bins can also be changed from the default that is automatically calculated/estimated by the distplot() function."
      ]
    },
    {
      "metadata": {
        "trusted": true,
        "id": "0X-QVEpTZ8M5",
        "colab_type": "code",
        "outputId": "b41717b0-71ca-474e-d016-984b8b9d2d87",
        "colab": {
          "base_uri": "https://localhost:8080/",
          "height": 274
        }
      },
      "cell_type": "code",
      "source": [
        "sns.distplot(x, bins=20, kde=False, rug=True);"
      ],
      "execution_count": 11,
      "outputs": [
        {
          "output_type": "display_data",
          "data": {
            "image/png": "[encoded data removed]",
            "text/plain": [
              "<Figure size 432x288 with 1 Axes>"
            ]
          },
          "metadata": {
            "tags": []
          }
        }
      ]
    },
    {
      "metadata": {
        "id": "60IPaI6lZ8M_",
        "colab_type": "text"
      },
      "cell_type": "markdown",
      "source": [
        "### Kernel Density Estimation"
      ]
    },
    {
      "metadata": {
        "id": "qFrDovfPZ8NC",
        "colab_type": "text"
      },
      "cell_type": "markdown",
      "source": [
        "Kernel density estimation encode the density of observations on one axis with height along the other axis:"
      ]
    },
    {
      "metadata": {
        "trusted": true,
        "id": "7IyGSizgZ8ND",
        "colab_type": "code",
        "outputId": "c94e5de6-d1a5-4820-c490-cb43d0b8a2c3",
        "colab": {
          "base_uri": "https://localhost:8080/",
          "height": 274
        }
      },
      "cell_type": "code",
      "source": [
        "sns.distplot(x, hist=False, rug=True);"
      ],
      "execution_count": 12,
      "outputs": [
        {
          "output_type": "display_data",
          "data": {
            "image/png": "[encoded data removed]",
            "text/plain": [
              "<Figure size 432x288 with 1 Axes>"
            ]
          },
          "metadata": {
            "tags": []
          }
        }
      ]
    },
    {
      "metadata": {
        "id": "JJKkc379Z8NN",
        "colab_type": "text"
      },
      "cell_type": "markdown",
      "source": [
        "## Plotting bivariate distributions"
      ]
    },
    {
      "metadata": {
        "id": "v7dttS1_Z8NO",
        "colab_type": "text"
      },
      "cell_type": "markdown",
      "source": [
        "### Scatterplots"
      ]
    },
    {
      "metadata": {
        "trusted": true,
        "id": "XGBesQoiZ8NR",
        "colab_type": "code",
        "colab": {}
      },
      "cell_type": "code",
      "source": [
        "mean, cov = [0, 1], [(1, .5), (.5, 1)]\n",
        "data = np.random.multivariate_normal(mean, cov, 200)\n",
        "df = pd.DataFrame(data, columns=[\"x\", \"y\"])"
      ],
      "execution_count": 0,
      "outputs": []
    },
    {
      "metadata": {
        "trusted": true,
        "id": "2JySTIabZ8NU",
        "colab_type": "code",
        "outputId": "6cf8ecd2-7323-41c3-fe7c-5ac9a1f37dc6",
        "colab": {
          "base_uri": "https://localhost:8080/",
          "height": 437
        }
      },
      "cell_type": "code",
      "source": [
        "sns.jointplot(x=\"x\", y=\"y\", data=df);"
      ],
      "execution_count": 14,
      "outputs": [
        {
          "output_type": "display_data",
          "data": {
            "image/png": "[encoded data removed]",
            "text/plain": [
              "<Figure size 432x432 with 3 Axes>"
            ]
          },
          "metadata": {
            "tags": []
          }
        }
      ]
    },
    {
      "metadata": {
        "id": "7xu-i1aSZ8Nb",
        "colab_type": "text"
      },
      "cell_type": "markdown",
      "source": [
        "### Kernel density estimation"
      ]
    },
    {
      "metadata": {
        "trusted": true,
        "id": "_v0ca1cpZ8Nh",
        "colab_type": "code",
        "outputId": "b1725065-531a-4966-e5e7-d9bbf717e44e",
        "colab": {
          "base_uri": "https://localhost:8080/",
          "height": 454
        }
      },
      "cell_type": "code",
      "source": [
        "sns.jointplot(x=\"x\", y=\"y\", data=df, kind=\"kde\")"
      ],
      "execution_count": 15,
      "outputs": [
        {
          "output_type": "execute_result",
          "data": {
            "text/plain": [
              "<seaborn.axisgrid.JointGrid at 0x7f6750eec410>"
            ]
          },
          "metadata": {
            "tags": []
          },
          "execution_count": 15
        },
        {
          "output_type": "display_data",
          "data": {
            "image/png": "[encoded data removed]",
            "text/plain": [
              "<Figure size 432x432 with 3 Axes>"
            ]
          },
          "metadata": {
            "tags": []
          }
        }
      ]
    }
  ]
}