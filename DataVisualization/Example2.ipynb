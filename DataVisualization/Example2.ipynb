{
  "nbformat": 4,
  "nbformat_minor": 0,
  "metadata": {
    "colab": {
      "name": "Example2.ipynb",
      "version": "0.3.2",
      "provenance": [],
      "include_colab_link": true
    },
    "kernelspec": {
      "name": "python36",
      "display_name": "Python 3.6",
      "language": "python"
    }
  },
  "cells": [
    {
      "cell_type": "markdown",
      "metadata": {
        "id": "view-in-github",
        "colab_type": "text"
      },
      "source": [
        "<a href=\"https://colab.research.google.com/github/ziababar/DataDen/blob/master/DataVisualization/Example2.ipynb\" target=\"_parent\"><img src=\"https://colab.research.google.com/assets/colab-badge.svg\" alt=\"Open In Colab\"/></a>"
      ]
    },
    {
      "metadata": {
        "trusted": true,
        "id": "r6kAhxK6TEcn",
        "colab_type": "text"
      },
      "cell_type": "markdown",
      "source": [
        "# Plotting with categorical data"
      ]
    },
    {
      "metadata": {
        "id": "2bkSKI-CT837",
        "colab_type": "text"
      },
      "cell_type": "markdown",
      "source": [
        "*Credit: These examples were originally source from the Seaborn [tutorials](https://seaborn.pydata.org/tutorial.html)*"
      ]
    },
    {
      "metadata": {
        "id": "ECzBhRoxUHjz",
        "colab_type": "text"
      },
      "cell_type": "markdown",
      "source": [
        "Just like continuous data, categorical data can be plotted on the same charts that we saw previously. Here one of the main variables is “categorical” (divided into discrete groups)."
      ]
    },
    {
      "metadata": {
        "id": "O-MKFba9UXG8",
        "colab_type": "text"
      },
      "cell_type": "markdown",
      "source": [
        "## Setting things up"
      ]
    },
    {
      "metadata": {
        "id": "LZ0ZbvNmUZdr",
        "colab_type": "text"
      },
      "cell_type": "markdown",
      "source": [
        "Perform initial setup of the environment and import necessary libraries"
      ]
    },
    {
      "metadata": {
        "trusted": true,
        "id": "b-SOHd8ETEco",
        "colab_type": "code",
        "colab": {}
      },
      "cell_type": "code",
      "source": [
        "import seaborn as sns\n",
        "sns.__version__"
      ],
      "execution_count": 0,
      "outputs": []
    },
    {
      "metadata": {
        "id": "nSM8I8KdUdU8",
        "colab_type": "code",
        "colab": {}
      },
      "cell_type": "code",
      "source": [
        "!pip install seaborn==\"0.9.0\""
      ],
      "execution_count": 0,
      "outputs": []
    },
    {
      "metadata": {
        "id": "oVp2ltqxUj9s",
        "colab_type": "code",
        "colab": {}
      },
      "cell_type": "code",
      "source": [
        "import numpy as np\n",
        "import pandas as pd\n",
        "import matplotlib.pyplot as plt"
      ],
      "execution_count": 0,
      "outputs": []
    },
    {
      "metadata": {
        "id": "DXlTGWoNUqQu",
        "colab_type": "text"
      },
      "cell_type": "markdown",
      "source": [
        "Set various aesthetic parameters in one step. Details of possible parameters can be found at https://seaborn.pydata.org/generated/seaborn.set.html"
      ]
    },
    {
      "metadata": {
        "trusted": true,
        "id": "V0h_vGNtTEcw",
        "colab_type": "code",
        "colab": {}
      },
      "cell_type": "code",
      "source": [
        "sns.set(style=\"ticks\", color_codes=True)"
      ],
      "execution_count": 0,
      "outputs": []
    },
    {
      "metadata": {
        "id": "QStpdviGUvQt",
        "colab_type": "text"
      },
      "cell_type": "markdown",
      "source": [
        "##Loading and Creating the Datasets"
      ]
    },
    {
      "metadata": {
        "trusted": true,
        "id": "59zC0m2-TEc2",
        "colab_type": "code",
        "colab": {}
      },
      "cell_type": "code",
      "source": [
        "tips = sns.load_dataset(\"tips\")\n",
        "titanic = sns.load_dataset(\"titanic\")"
      ],
      "execution_count": 0,
      "outputs": []
    },
    {
      "metadata": {
        "id": "0449OK0kU3mV",
        "colab_type": "code",
        "colab": {}
      },
      "cell_type": "code",
      "source": [
        "tips.head(10)"
      ],
      "execution_count": 0,
      "outputs": []
    },
    {
      "metadata": {
        "id": "YzYxDSYdWg-r",
        "colab_type": "code",
        "colab": {}
      },
      "cell_type": "code",
      "source": [
        "titanic.head(10)"
      ],
      "execution_count": 0,
      "outputs": []
    },
    {
      "metadata": {
        "id": "3mTDKwkzU5MF",
        "colab_type": "text"
      },
      "cell_type": "markdown",
      "source": [
        "## Visualization using Category Plots"
      ]
    },
    {
      "metadata": {
        "id": "DAvhn7JKVK8I",
        "colab_type": "text"
      },
      "cell_type": "markdown",
      "source": [
        "The catplot() function plots all of the points belonging to one category on the same position along the axis corresponding to the categorical variable."
      ]
    },
    {
      "metadata": {
        "id": "X1eChIvGVTqQ",
        "colab_type": "text"
      },
      "cell_type": "markdown",
      "source": [
        "### Example 1"
      ]
    },
    {
      "metadata": {
        "id": "QNG2y_TlUzeV",
        "colab_type": "code",
        "colab": {}
      },
      "cell_type": "code",
      "source": [
        "sns.catplot(x=\"day\", y=\"total_bill\", data=tips);"
      ],
      "execution_count": 0,
      "outputs": []
    },
    {
      "metadata": {
        "id": "ganRjFe9VVuH",
        "colab_type": "text"
      },
      "cell_type": "markdown",
      "source": [
        "### Example 2"
      ]
    },
    {
      "metadata": {
        "trusted": true,
        "id": "yLx_UbIATEc7",
        "colab_type": "code",
        "colab": {}
      },
      "cell_type": "code",
      "source": [
        "sns.catplot(x=\"day\", y=\"total_bill\", jitter=False, data=tips);"
      ],
      "execution_count": 0,
      "outputs": []
    },
    {
      "metadata": {
        "id": "G5jMx4AwVa8_",
        "colab_type": "text"
      },
      "cell_type": "markdown",
      "source": [
        "### Example 3"
      ]
    },
    {
      "metadata": {
        "trusted": true,
        "id": "s5GCgE6zTEc_",
        "colab_type": "code",
        "colab": {}
      },
      "cell_type": "code",
      "source": [
        "sns.catplot(x=\"day\", y=\"total_bill\", hue=\"sex\", kind=\"swarm\", data=tips);"
      ],
      "execution_count": 0,
      "outputs": []
    },
    {
      "metadata": {
        "id": "5gKIxkWgTEdE",
        "colab_type": "text"
      },
      "cell_type": "markdown",
      "source": [
        "## Bar plots"
      ]
    },
    {
      "metadata": {
        "id": "7aVlqbdJTEdF",
        "colab_type": "text"
      },
      "cell_type": "markdown",
      "source": [
        "The barplot() function creates a histogram looking chart by calculating the mean for each categorical variable. It can also show the confidence interval around the mean and plots that using error bars:"
      ]
    },
    {
      "metadata": {
        "id": "cMULr4QZZAqR",
        "colab_type": "text"
      },
      "cell_type": "markdown",
      "source": [
        "### Example 4"
      ]
    },
    {
      "metadata": {
        "trusted": true,
        "id": "U4OhowT6TEdL",
        "colab_type": "code",
        "colab": {}
      },
      "cell_type": "code",
      "source": [
        "sns.catplot(x=\"deck\", kind=\"count\", data=titanic);"
      ],
      "execution_count": 0,
      "outputs": []
    },
    {
      "metadata": {
        "id": "nTBS7IHGY86w",
        "colab_type": "text"
      },
      "cell_type": "markdown",
      "source": [
        "### Example 5"
      ]
    },
    {
      "metadata": {
        "id": "J39bQdvDY1p_",
        "colab_type": "code",
        "colab": {}
      },
      "cell_type": "code",
      "source": [
        "sns.catplot(x=\"sex\", y=\"survived\", hue=\"class\", ci=None, kind=\"bar\", data=titanic);"
      ],
      "execution_count": 0,
      "outputs": []
    },
    {
      "metadata": {
        "trusted": true,
        "id": "C7kzlHlLTEdG",
        "colab_type": "code",
        "colab": {}
      },
      "cell_type": "code",
      "source": [
        "sns.catplot(x=\"sex\", y=\"survived\", hue=\"class\", kind=\"bar\", data=titanic);"
      ],
      "execution_count": 0,
      "outputs": []
    },
    {
      "metadata": {
        "trusted": true,
        "id": "fwInAWJbTEdO",
        "colab_type": "code",
        "colab": {}
      },
      "cell_type": "code",
      "source": [
        ""
      ],
      "execution_count": 0,
      "outputs": []
    }
  ]
}