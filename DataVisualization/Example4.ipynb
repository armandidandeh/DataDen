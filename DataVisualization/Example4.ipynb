{
  "nbformat": 4,
  "nbformat_minor": 0,
  "metadata": {
    "colab": {
      "name": "Example4.ipynb",
      "version": "0.3.2",
      "provenance": [],
      "include_colab_link": true
    },
    "kernelspec": {
      "name": "python36",
      "display_name": "Python 3.6",
      "language": "python"
    }
  },
  "cells": [
    {
      "cell_type": "markdown",
      "metadata": {
        "id": "view-in-github",
        "colab_type": "text"
      },
      "source": [
        "<a href=\"https://colab.research.google.com/github/ziababar/DataDen/blob/master/DataVisualization/Example4.ipynb\" target=\"_parent\"><img src=\"https://colab.research.google.com/assets/colab-badge.svg\" alt=\"Open In Colab\"/></a>"
      ]
    },
    {
      "metadata": {
        "id": "_QrJ2dzkjy-b",
        "colab_type": "text"
      },
      "cell_type": "markdown",
      "source": [
        "# Visualizing linear relationships"
      ]
    },
    {
      "metadata": {
        "id": "7D81wbkNj3XX",
        "colab_type": "text"
      },
      "cell_type": "markdown",
      "source": [
        "*Credit: These examples were originally source from the Seaborn [tutorials](https://seaborn.pydata.org/tutorial.html)*\n"
      ]
    },
    {
      "metadata": {
        "id": "ME4Ni0lZjy-d",
        "colab_type": "text"
      },
      "cell_type": "markdown",
      "source": [
        "Many datasets contain multiple quantitative variables, and the goal of an analysis is often to relate those variables to each other. We previously discussed functions that can accomplish this by showing the joint distribution of two variables. It can be very helpful, though, to use statistical models to estimate a simple relationship between two noisy sets of observations. The functions discussed in this chapter will do so through the common framework of linear regression."
      ]
    },
    {
      "metadata": {
        "id": "In1_2sDrj5rG",
        "colab_type": "text"
      },
      "cell_type": "markdown",
      "source": [
        "## Setting things up"
      ]
    },
    {
      "metadata": {
        "id": "_xC4rLh8j9Z2",
        "colab_type": "text"
      },
      "cell_type": "markdown",
      "source": [
        "Perform initial setup of the environment and import necessary libraries"
      ]
    },
    {
      "metadata": {
        "id": "I4yVT4KGj_11",
        "colab_type": "code",
        "colab": {}
      },
      "cell_type": "code",
      "source": [
        "import seaborn as sns\n",
        "sns.__version__"
      ],
      "execution_count": 0,
      "outputs": []
    },
    {
      "metadata": {
        "id": "6gSMe7qfkB0N",
        "colab_type": "code",
        "colab": {}
      },
      "cell_type": "code",
      "source": [
        "!pip install seaborn==\"0.9.0\""
      ],
      "execution_count": 0,
      "outputs": []
    },
    {
      "metadata": {
        "id": "H_LkqIfAkFR2",
        "colab_type": "code",
        "colab": {}
      },
      "cell_type": "code",
      "source": [
        "import numpy as np"
      ],
      "execution_count": 0,
      "outputs": []
    },
    {
      "metadata": {
        "id": "dzXcJ7EkkKYY",
        "colab_type": "text"
      },
      "cell_type": "markdown",
      "source": [
        "Set various aesthetic parameters in one step. Details of possible parameters can be found at https://seaborn.pydata.org/generated/seaborn.set.html"
      ]
    },
    {
      "metadata": {
        "trusted": true,
        "id": "Iddt9kWDjy-l",
        "colab_type": "code",
        "colab": {}
      },
      "cell_type": "code",
      "source": [
        "sns.set(color_codes=True)"
      ],
      "execution_count": 0,
      "outputs": []
    },
    {
      "metadata": {
        "id": "zqC0KaLYkTVl",
        "colab_type": "text"
      },
      "cell_type": "markdown",
      "source": [
        "## Loading and Creating the Datasets"
      ]
    },
    {
      "metadata": {
        "id": "uEMy1jAfkXtn",
        "colab_type": "text"
      },
      "cell_type": "markdown",
      "source": [
        "Multiple data-sets would be used in this example; load them now."
      ]
    },
    {
      "metadata": {
        "id": "_SBnZBsikQQW",
        "colab_type": "code",
        "colab": {}
      },
      "cell_type": "code",
      "source": [
        "tips = sns.load_dataset(\"tips\")\n",
        "anscombe = sns.load_dataset(\"anscombe\")"
      ],
      "execution_count": 0,
      "outputs": []
    },
    {
      "metadata": {
        "id": "s-8A-KtskbsW",
        "colab_type": "code",
        "colab": {}
      },
      "cell_type": "code",
      "source": [
        "tips.head(10)"
      ],
      "execution_count": 0,
      "outputs": []
    },
    {
      "metadata": {
        "id": "IMq8_cb5O7bc",
        "colab_type": "code",
        "colab": {}
      },
      "cell_type": "code",
      "source": [
        "anscombe.head(10)"
      ],
      "execution_count": 0,
      "outputs": []
    },
    {
      "metadata": {
        "id": "VO1olAYtjy-o",
        "colab_type": "text"
      },
      "cell_type": "markdown",
      "source": [
        "## Linear Regression Models"
      ]
    },
    {
      "metadata": {
        "id": "g5vLDCNCjy-q",
        "colab_type": "text"
      },
      "cell_type": "markdown",
      "source": [
        "Two main functions are used to visualize a linear relationship as determined through regression.\n",
        "\n",
        "*   regplot()\n",
        "> * draws a scatterplot of two variables and overlays that with a regression model (including a confidence interval).\n",
        "> * accepts the x and y variables in a variety of formats including simple numpy arrays, pandas Series objects, or as references to variables in a pandas DataFrame object passed to data.\n",
        "> * always shows a single relationship between two variable.\n",
        "\n",
        "*   lmplot()\n",
        "> * draws a scatterplot of two variables and overlaps that with a regression model (including a confidence interval).\n",
        "> * has data as a required parameter and the x and y variables must be specified as strings.\n",
        "> * lmplot() combines regplot() with FacetGrid to provide an easy interface to show a linear regression on “faceted” plots that allow you to explore interactions with up to three additional categorical variables."
      ]
    },
    {
      "metadata": {
        "id": "pco1mTAiNJ0n",
        "colab_type": "text"
      },
      "cell_type": "markdown",
      "source": [
        "### Example 1"
      ]
    },
    {
      "metadata": {
        "trusted": true,
        "id": "v2r1m4bTjy-q",
        "colab_type": "code",
        "colab": {}
      },
      "cell_type": "code",
      "source": [
        "sns.regplot(x=\"total_bill\", y=\"tip\", data=tips);"
      ],
      "execution_count": 0,
      "outputs": []
    },
    {
      "metadata": {
        "id": "aXQ4TWc2NLeL",
        "colab_type": "text"
      },
      "cell_type": "markdown",
      "source": [
        "### Example 2"
      ]
    },
    {
      "metadata": {
        "trusted": true,
        "id": "roiWlHx5jy-u",
        "colab_type": "code",
        "colab": {}
      },
      "cell_type": "code",
      "source": [
        "sns.lmplot(x=\"total_bill\", y=\"tip\", data=tips);"
      ],
      "execution_count": 0,
      "outputs": []
    },
    {
      "metadata": {
        "id": "sOaKK1DXjy-y",
        "colab_type": "text"
      },
      "cell_type": "markdown",
      "source": [
        "### Example 3"
      ]
    },
    {
      "metadata": {
        "trusted": true,
        "id": "enszKv0ijy-z",
        "colab_type": "code",
        "colab": {}
      },
      "cell_type": "code",
      "source": [
        "sns.lmplot(x=\"total_bill\", y=\"tip\", hue=\"smoker\", data=tips);"
      ],
      "execution_count": 0,
      "outputs": []
    },
    {
      "metadata": {
        "id": "5cAIpFapjy-3",
        "colab_type": "text"
      },
      "cell_type": "markdown",
      "source": [
        "### Example 4"
      ]
    },
    {
      "metadata": {
        "trusted": true,
        "id": "UuhaJaZVjy-4",
        "colab_type": "code",
        "colab": {}
      },
      "cell_type": "code",
      "source": [
        "sns.lmplot(x=\"total_bill\", y=\"tip\", hue=\"smoker\", col=\"time\", data=tips);"
      ],
      "execution_count": 0,
      "outputs": []
    },
    {
      "metadata": {
        "id": "mBIIyS6zjy-9",
        "colab_type": "text"
      },
      "cell_type": "markdown",
      "source": [
        "### Example 5"
      ]
    },
    {
      "metadata": {
        "trusted": true,
        "id": "cAppmyQjjy-9",
        "colab_type": "code",
        "colab": {}
      },
      "cell_type": "code",
      "source": [
        "sns.lmplot(x=\"size\", y=\"tip\", data=tips);"
      ],
      "execution_count": 0,
      "outputs": []
    },
    {
      "metadata": {
        "id": "-j4uoB0ijy_B",
        "colab_type": "text"
      },
      "cell_type": "markdown",
      "source": [
        "### Example 6"
      ]
    },
    {
      "metadata": {
        "trusted": true,
        "id": "nEcj0PoQjy_C",
        "colab_type": "code",
        "colab": {}
      },
      "cell_type": "code",
      "source": [
        "sns.lmplot(x=\"size\", y=\"tip\", data=tips, x_estimator=np.mean);"
      ],
      "execution_count": 0,
      "outputs": []
    },
    {
      "metadata": {
        "id": "7A6TQQpijy_K",
        "colab_type": "text"
      },
      "cell_type": "markdown",
      "source": [
        "## Non-Linear Regression Models"
      ]
    },
    {
      "metadata": {
        "id": "WsXGwumAjy_M",
        "colab_type": "text"
      },
      "cell_type": "markdown",
      "source": [
        "For polynomial equations, lmplot() and regplot() can be used to plot non-linear regression models to visually depict the non-linear trends in the dataset."
      ]
    },
    {
      "metadata": {
        "id": "l8dsZq4RPH1z",
        "colab_type": "text"
      },
      "cell_type": "markdown",
      "source": [
        "### Example 7"
      ]
    },
    {
      "metadata": {
        "trusted": true,
        "id": "nT39_s7bjy_R",
        "colab_type": "code",
        "colab": {}
      },
      "cell_type": "code",
      "source": [
        "#sns.lmplot(x=\"x\", y=\"y\", data=anscombe.query(\"dataset == 'II'\"), order=1, ci=None, scatter_kws={\"s\": 80});\n",
        "sns.lmplot(x=\"x\", y=\"y\", data=anscombe.query(\"dataset == 'II'\"), order=2, ci=None, scatter_kws={\"s\": 80});"
      ],
      "execution_count": 0,
      "outputs": []
    },
    {
      "metadata": {
        "id": "TfxpkOErjy_W",
        "colab_type": "text"
      },
      "cell_type": "markdown",
      "source": [
        "### Example 8"
      ]
    },
    {
      "metadata": {
        "trusted": true,
        "id": "eJVU_kD7jy_X",
        "colab_type": "code",
        "colab": {}
      },
      "cell_type": "code",
      "source": [
        "#sns.lmplot(x=\"x\", y=\"y\", data=anscombe.query(\"dataset == 'III'\"), robust=False, ci=None, scatter_kws={\"s\": 80});\n",
        "sns.lmplot(x=\"x\", y=\"y\", data=anscombe.query(\"dataset == 'III'\"), robust=True, ci=None, scatter_kws={\"s\": 80});"
      ],
      "execution_count": 0,
      "outputs": []
    }
  ]
}