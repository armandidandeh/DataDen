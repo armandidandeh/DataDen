{
  "nbformat": 4,
  "nbformat_minor": 0,
  "metadata": {
    "colab": {
      "name": "DataVizSeaborn.ipynb",
      "version": "0.3.2",
      "provenance": [],
      "include_colab_link": true
    },
    "kernelspec": {
      "name": "python36",
      "display_name": "Python 3.6",
      "language": "python"
    }
  },
  "cells": [
    {
      "cell_type": "markdown",
      "metadata": {
        "id": "view-in-github",
        "colab_type": "text"
      },
      "source": [
        "<a href=\"https://colab.research.google.com/github/ziababar/DataDen/blob/master/DataVisualization/Example1.ipynb\" target=\"_parent\"><img src=\"https://colab.research.google.com/assets/colab-badge.svg\" alt=\"Open In Colab\"/></a>"
      ]
    },
    {
      "metadata": {
        "id": "VmEZ8PIrJr4r",
        "colab_type": "text"
      },
      "cell_type": "markdown",
      "source": [
        "# Visualizing Statistical Relationships\n"
      ]
    },
    {
      "metadata": {
        "id": "fV9njTcfJr4s",
        "colab_type": "text"
      },
      "cell_type": "markdown",
      "source": [
        "*Credit: These examples were originally source from the Seaborn [tutorials](https://seaborn.pydata.org/tutorial.html)*\n",
        "\n"
      ]
    },
    {
      "metadata": {
        "id": "mgazrsPKJ0p7",
        "colab_type": "text"
      },
      "cell_type": "markdown",
      "source": [
        "Statistical analysis is a process of understanding how variables in a dataset relate to each other and how those relationships depend on other variables. Visualization can be a core component of this process because, when data are visualized properly, the human visual system can see trends and patterns that indicate a relationship."
      ]
    },
    {
      "metadata": {
        "id": "56dfu-V8Jr4t",
        "colab_type": "text"
      },
      "cell_type": "markdown",
      "source": [
        "## Setting things up"
      ]
    },
    {
      "metadata": {
        "id": "bjuF2hHCM8v3",
        "colab_type": "text"
      },
      "cell_type": "markdown",
      "source": [
        "Perform initial setup of the environment and import necessary libraries"
      ]
    },
    {
      "metadata": {
        "trusted": true,
        "id": "jczd4TWrJr4u",
        "colab_type": "code",
        "colab": {}
      },
      "cell_type": "code",
      "source": [
        "import seaborn as sns\n",
        "sns.__version__"
      ],
      "execution_count": 0,
      "outputs": []
    },
    {
      "metadata": {
        "id": "RnrwY2LuN1Vp",
        "colab_type": "code",
        "colab": {}
      },
      "cell_type": "code",
      "source": [
        "!pip install seaborn==\"0.9.0\""
      ],
      "execution_count": 0,
      "outputs": []
    },
    {
      "metadata": {
        "id": "sm1rUk3Kqq9Y",
        "colab_type": "code",
        "trusted": true,
        "colab": {}
      },
      "cell_type": "code",
      "source": [
        "import numpy as np\n",
        "import pandas as pd\n",
        "import matplotlib.pyplot as plt"
      ],
      "execution_count": 0,
      "outputs": []
    },
    {
      "metadata": {
        "id": "tVXWQOKzNVO2",
        "colab_type": "text"
      },
      "cell_type": "markdown",
      "source": [
        "Set various aesthetic parameters in one step. Details of possible parameters can be found at https://seaborn.pydata.org/generated/seaborn.set.html"
      ]
    },
    {
      "metadata": {
        "trusted": true,
        "id": "SK0GQp30Jr47",
        "colab_type": "code",
        "colab": {}
      },
      "cell_type": "code",
      "source": [
        "sns.set(style=\"darkgrid\")"
      ],
      "execution_count": 0,
      "outputs": []
    },
    {
      "metadata": {
        "trusted": true,
        "id": "IDBT9cwWJr4-",
        "colab_type": "text"
      },
      "cell_type": "markdown",
      "source": [
        "## Loading and Creating the Datasets"
      ]
    },
    {
      "metadata": {
        "id": "KPBKd4z2NkA4",
        "colab_type": "text"
      },
      "cell_type": "markdown",
      "source": [
        "Multiple data-sets would be used in this example; load them now."
      ]
    },
    {
      "metadata": {
        "trusted": true,
        "id": "Ckbh_17-Jr4-",
        "colab_type": "code",
        "colab": {}
      },
      "cell_type": "code",
      "source": [
        "tips = sns.load_dataset(\"tips\")\n",
        "fmri = sns.load_dataset(\"fmri\")\n",
        "df_linear = pd.DataFrame(dict(time=np.arange(500), value=np.random.randn(500).cumsum()))"
      ],
      "execution_count": 0,
      "outputs": []
    },
    {
      "metadata": {
        "id": "xXPcFo-rP3cC",
        "colab_type": "code",
        "colab": {}
      },
      "cell_type": "code",
      "source": [
        "tips.head(10)"
      ],
      "execution_count": 0,
      "outputs": []
    },
    {
      "metadata": {
        "id": "_ioj8L_lP9-0",
        "colab_type": "code",
        "colab": {}
      },
      "cell_type": "code",
      "source": [
        "fmri.head(10)"
      ],
      "execution_count": 0,
      "outputs": []
    },
    {
      "metadata": {
        "id": "KzXxD9t8QAAi",
        "colab_type": "code",
        "colab": {}
      },
      "cell_type": "code",
      "source": [
        "df_linear.head(10)"
      ],
      "execution_count": 0,
      "outputs": []
    },
    {
      "metadata": {
        "id": "mpoCIc7cJr5B",
        "colab_type": "text"
      },
      "cell_type": "markdown",
      "source": [
        "## Visualization using Scatterplots"
      ]
    },
    {
      "metadata": {
        "id": "xKvM4xHyPOuw",
        "colab_type": "text"
      },
      "cell_type": "markdown",
      "source": [
        "Scatterplots are using to illustrate the distribution of a dataset containing two variables using a cloud of points, where each point represents an observation in the dataset."
      ]
    },
    {
      "metadata": {
        "id": "KtXs8peuJr5C",
        "colab_type": "text"
      },
      "cell_type": "markdown",
      "source": [
        "### Example 1"
      ]
    },
    {
      "metadata": {
        "trusted": true,
        "id": "oWCwROG1Jr5D",
        "colab_type": "code",
        "colab": {}
      },
      "cell_type": "code",
      "source": [
        "sns.scatterplot(x=\"total_bill\", y=\"tip\", data=tips);"
      ],
      "execution_count": 0,
      "outputs": []
    },
    {
      "metadata": {
        "id": "cWIPUqMmJr5J",
        "colab_type": "text"
      },
      "cell_type": "markdown",
      "source": [
        "### Example 2"
      ]
    },
    {
      "metadata": {
        "trusted": true,
        "id": "OoukJsvKJr5K",
        "colab_type": "code",
        "colab": {}
      },
      "cell_type": "code",
      "source": [
        "sns.scatterplot(x=\"total_bill\", y=\"tip\", hue=\"smoker\", data=tips);"
      ],
      "execution_count": 0,
      "outputs": []
    },
    {
      "metadata": {
        "id": "2m2qTiIxJr5N",
        "colab_type": "text"
      },
      "cell_type": "markdown",
      "source": [
        "### Example 3"
      ]
    },
    {
      "metadata": {
        "trusted": true,
        "id": "kQQseR-5Jr5O",
        "colab_type": "code",
        "colab": {}
      },
      "cell_type": "code",
      "source": [
        "sns.scatterplot(x=\"total_bill\", y=\"tip\", hue=\"smoker\", style=\"smoker\", data=tips);"
      ],
      "execution_count": 0,
      "outputs": []
    },
    {
      "metadata": {
        "id": "nYZBYiH_QHnj",
        "colab_type": "text"
      },
      "cell_type": "markdown",
      "source": [
        "### Example 4"
      ]
    },
    {
      "metadata": {
        "trusted": true,
        "id": "1nGa__KqJr5a",
        "colab_type": "code",
        "colab": {}
      },
      "cell_type": "code",
      "source": [
        "sns.scatterplot(x=\"total_bill\", y=\"tip\", size=\"size\", sizes=(15, 200), data=tips);"
      ],
      "execution_count": 0,
      "outputs": []
    },
    {
      "metadata": {
        "id": "XgHik06tQODT",
        "colab_type": "text"
      },
      "cell_type": "markdown",
      "source": [
        "## Visualization using Linear Plots"
      ]
    },
    {
      "metadata": {
        "id": "tC3CBHgZJr5h",
        "colab_type": "text"
      },
      "cell_type": "markdown",
      "source": [
        "In some datasets, the distribution of datapoints happens over line. For this we can use linear plots with time being one dimension."
      ]
    },
    {
      "metadata": {
        "id": "yLCHd_Z4RB03",
        "colab_type": "text"
      },
      "cell_type": "markdown",
      "source": [
        "### Example 5"
      ]
    },
    {
      "metadata": {
        "trusted": true,
        "id": "yfZGE1mKJr5m",
        "colab_type": "code",
        "colab": {}
      },
      "cell_type": "code",
      "source": [
        "g = sns.relplot(x=\"time\", y=\"value\", kind=\"line\", data=df_linear)"
      ],
      "execution_count": 0,
      "outputs": []
    },
    {
      "metadata": {
        "id": "jlxNLjTEREJu",
        "colab_type": "text"
      },
      "cell_type": "markdown",
      "source": [
        "### Example 6"
      ]
    },
    {
      "metadata": {
        "id": "S7snCvRSJr5v",
        "colab_type": "text"
      },
      "cell_type": "markdown",
      "source": [
        "Some datasets have multiple observations at the same time-interval. These can be aggregated (at that time-point) with the mean being the actual value that gets plotted. The confidence interval can be shown around the mean."
      ]
    },
    {
      "metadata": {
        "trusted": true,
        "id": "oEFAsuG3Jr50",
        "colab_type": "code",
        "colab": {}
      },
      "cell_type": "code",
      "source": [
        "sns.relplot(x=\"timepoint\", y=\"signal\", kind=\"line\", data=fmri);"
      ],
      "execution_count": 0,
      "outputs": []
    },
    {
      "metadata": {
        "trusted": true,
        "id": "1edLZeFNJr5w",
        "colab_type": "code",
        "colab": {}
      },
      "cell_type": "code",
      "source": [
        "sns.relplot(x=\"timepoint\", y=\"signal\", ci=None, kind=\"line\", data=fmri);"
      ],
      "execution_count": 0,
      "outputs": []
    }
  ]
}