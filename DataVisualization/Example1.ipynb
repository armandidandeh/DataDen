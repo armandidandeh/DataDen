{
  "nbformat": 4,
  "nbformat_minor": 0,
  "metadata": {
    "colab": {
      "name": "Introduction.ipynb",
      "version": "0.3.2",
      "provenance": []
    },
    "kernelspec": {
      "name": "python36",
      "display_name": "Python 3.6",
      "language": "python"
    }
  },
  "cells": [
    {
      "metadata": {
        "id": "zluRNc8YHhHA",
        "colab_type": "text"
      },
      "cell_type": "markdown",
      "source": [
        "#Introduction to Data Visualization using Python and Seaborn"
      ]
    },
    {
      "metadata": {
        "id": "C5n9WAucHnWn",
        "colab_type": "text"
      },
      "cell_type": "markdown",
      "source": [
        "Welcome to the DataDen meetup event where we talk about data visualization using Python and [Seaborn](http://seaborn.pydata.org/). We'll go through a few demos using [Google Colab](https://colab.research.google.com).\n"
      ]
    },
    {
      "metadata": {
        "id": "pmb83j8XIUqC",
        "colab_type": "text"
      },
      "cell_type": "markdown",
      "source": [
        "Seaborn comes with a number of in-build datasets; details of which can be found at https://github.com/mwaskom/seaborn-data."
      ]
    },
    {
      "metadata": {
        "id": "TgsWKZeAHoXn",
        "colab_type": "text"
      },
      "cell_type": "markdown",
      "source": [
        "We first need to ensure that the latest version of seaborn is being used."
      ]
    },
    {
      "metadata": {
        "trusted": true,
        "id": "q7tMouHPHf1Z",
        "colab_type": "code",
        "colab": {}
      },
      "cell_type": "code",
      "source": [
        "import seaborn as sns\n",
        "sns.__version__\n"
      ],
      "execution_count": 0,
      "outputs": []
    },
    {
      "metadata": {
        "id": "rq5ESh-YHxaf",
        "colab_type": "text"
      },
      "cell_type": "markdown",
      "source": [
        "If the version number is less than 0.9.0, then we need to update Google Colab with the latest version."
      ]
    },
    {
      "metadata": {
        "trusted": true,
        "id": "YvQXESFSHf1d",
        "colab_type": "code",
        "colab": {}
      },
      "cell_type": "code",
      "source": [
        "!pip install seaborn==\"0.9.0\""
      ],
      "execution_count": 0,
      "outputs": []
    },
    {
      "metadata": {
        "id": "uiNpZwhmH5uv",
        "colab_type": "text"
      },
      "cell_type": "markdown",
      "source": [
        "Restart the runtime in order to pick the latest version, then check the seaborn version again."
      ]
    },
    {
      "metadata": {
        "trusted": true,
        "id": "ZwQnkeenHf1o",
        "colab_type": "code",
        "colab": {}
      },
      "cell_type": "code",
      "source": [
        ""
      ],
      "execution_count": 0,
      "outputs": []
    }
  ]
}